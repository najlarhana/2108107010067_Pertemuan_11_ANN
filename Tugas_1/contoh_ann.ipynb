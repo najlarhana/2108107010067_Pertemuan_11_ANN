{
 "cells": [
  {
   "cell_type": "code",
   "execution_count": 1,
   "metadata": {},
   "outputs": [],
   "source": [
    "# Mengimpor library yang diperlukan\n",
    "import numpy as np\n",
    "import matplotlib.pyplot as plt\n",
    "import pandas as pd"
   ]
  },
  {
   "cell_type": "code",
   "execution_count": 2,
   "metadata": {},
   "outputs": [],
   "source": [
    "# Mengimpor dataset\n",
    "dataset = pd.read_csv('Data_bank_churn.csv')\n",
    "X = dataset.iloc[:, 3:13].values # lakukan slicing, membutuhkan kolom 3-12\n",
    "y = dataset.iloc[:, 13].values # lakukan slicing untuk variabel independen y"
   ]
  },
  {
   "cell_type": "code",
   "execution_count": 3,
   "metadata": {},
   "outputs": [],
   "source": [
    "# Mengonversi data kategori jenis kelamin menjadi numerik\n",
    "from sklearn.preprocessing import LabelEncoder, OneHotEncoder\n",
    "from sklearn.compose import ColumnTransformer\n",
    "\n",
    "labelencoder = LabelEncoder()\n",
    "X[:, 2] = labelencoder.fit_transform(X[:, 2]) # mengubah kolom 2 (gender) menjadi nilai 0 dan 1"
   ]
  },
  {
   "cell_type": "code",
   "execution_count": 4,
   "metadata": {},
   "outputs": [],
   "source": [
    "# Membuat dummy variable untuk kolom negara, karena memiliki > 2 kategori\n",
    "# mengapa dummy diperlukan? memberi nama pada negara misal 0 (France) dan 2 (Spain), bukan berarti france lebih rendah dari spain\n",
    "\n",
    "# parameter 1 (tuple nama), p2 (fungsi transformer), p3 (kolom keberapa yang ingin dieksekusi)\n",
    "# \n",
    "columnTransformer = ColumnTransformer([('encoder', OneHotEncoder(), [1])], remainder='passthrough')\n",
    "X = np.array(columnTransformer.fit_transform(X), dtype = np.float64)"
   ]
  },
  {
   "cell_type": "code",
   "execution_count": 5,
   "metadata": {},
   "outputs": [],
   "source": [
    "# Menghilangkan 1 dummy variabel di kolom negara\n",
    "X = X[:, 1:] # menghindari dummy variable trap"
   ]
  },
  {
   "cell_type": "code",
   "execution_count": 6,
   "metadata": {},
   "outputs": [],
   "source": [
    "# Membagi data ke test dan training set\n",
    "from sklearn.model_selection import train_test_split\n",
    "X_train, X_test, y_train, y_test = train_test_split(X, y, test_size = 0.2, random_state = 0)"
   ]
  },
  {
   "cell_type": "code",
   "execution_count": 7,
   "metadata": {},
   "outputs": [],
   "source": [
    "# Feature Scaling agar tidak satu kolom yg mendominasi skala \n",
    "from sklearn.preprocessing import StandardScaler\n",
    "sc = StandardScaler()\n",
    "X_train = sc.fit_transform(X_train)\n",
    "X_test = sc.transform(X_test)"
   ]
  },
  {
   "cell_type": "code",
   "execution_count": 8,
   "metadata": {},
   "outputs": [],
   "source": [
    "# Mengimpor library Keras dan turunannya\n",
    "# Sekarang menggunakan TensorFlow 2.0\n",
    "from tensorflow.keras.models import Sequential\n",
    "from tensorflow.keras.layers import Dense"
   ]
  },
  {
   "cell_type": "code",
   "execution_count": 9,
   "metadata": {},
   "outputs": [],
   "source": [
    "# Inisialisasi ANN\n",
    "MesinKlasifikasi = Sequential()\n",
    "\n",
    "# Menambah input layer dan hidden layer pertama\n",
    "MesinKlasifikasi.add(Dense(units = 6, kernel_initializer = 'uniform', activation = 'relu', input_dim = 11))\n",
    "# Menambah hidden layer kedua\n",
    "MesinKlasifikasi.add(Dense(units = 6, kernel_initializer = 'uniform', activation = 'relu'))\n",
    "# Menambah output layer\n",
    "MesinKlasifikasi.add(Dense(units = 1, kernel_initializer = 'uniform', activation = 'sigmoid')) # gunakan sigmoid function karena output adalah 2 kategori (0/1)\n",
    "# jika ada 5 kategori output buat units=5 dan ubah activation=softmax"
   ]
  },
  {
   "cell_type": "code",
   "execution_count": 10,
   "metadata": {},
   "outputs": [],
   "source": [
    "# Menjalankan ANN\n",
    "MesinKlasifikasi.compile(optimizer = 'adam', loss = 'binary_crossentropy', metrics = ['accuracy'])"
   ]
  },
  {
   "cell_type": "code",
   "execution_count": 11,
   "metadata": {},
   "outputs": [
    {
     "name": "stdout",
     "output_type": "stream",
     "text": [
      "Epoch 1/100\n",
      "800/800 [==============================] - 3s 2ms/step - loss: 0.4797 - accuracy: 0.7960\n",
      "Epoch 2/100\n",
      "800/800 [==============================] - 2s 3ms/step - loss: 0.4258 - accuracy: 0.7960\n",
      "Epoch 3/100\n",
      "800/800 [==============================] - 2s 3ms/step - loss: 0.4184 - accuracy: 0.8227\n",
      "Epoch 4/100\n",
      "800/800 [==============================] - 3s 4ms/step - loss: 0.4127 - accuracy: 0.8319\n",
      "Epoch 5/100\n",
      "800/800 [==============================] - 2s 3ms/step - loss: 0.4095 - accuracy: 0.8326\n",
      "Epoch 6/100\n",
      "800/800 [==============================] - 2s 2ms/step - loss: 0.4073 - accuracy: 0.8334\n",
      "Epoch 7/100\n",
      "800/800 [==============================] - 2s 3ms/step - loss: 0.4053 - accuracy: 0.8338\n",
      "Epoch 8/100\n",
      "800/800 [==============================] - 2s 3ms/step - loss: 0.4042 - accuracy: 0.8344\n",
      "Epoch 9/100\n",
      "800/800 [==============================] - 2s 3ms/step - loss: 0.4030 - accuracy: 0.8346\n",
      "Epoch 10/100\n",
      "800/800 [==============================] - 2s 2ms/step - loss: 0.4021 - accuracy: 0.8339\n",
      "Epoch 11/100\n",
      "800/800 [==============================] - 2s 3ms/step - loss: 0.4010 - accuracy: 0.8346\n",
      "Epoch 12/100\n",
      "800/800 [==============================] - 2s 3ms/step - loss: 0.3999 - accuracy: 0.8342\n",
      "Epoch 13/100\n",
      "800/800 [==============================] - 2s 3ms/step - loss: 0.3994 - accuracy: 0.8344\n",
      "Epoch 14/100\n",
      "800/800 [==============================] - 2s 3ms/step - loss: 0.3993 - accuracy: 0.8338\n",
      "Epoch 15/100\n",
      "800/800 [==============================] - 2s 3ms/step - loss: 0.3983 - accuracy: 0.8354\n",
      "Epoch 16/100\n",
      "800/800 [==============================] - 2s 3ms/step - loss: 0.3980 - accuracy: 0.8354\n",
      "Epoch 17/100\n",
      "800/800 [==============================] - 2s 2ms/step - loss: 0.3978 - accuracy: 0.8372\n",
      "Epoch 18/100\n",
      "800/800 [==============================] - 2s 2ms/step - loss: 0.3977 - accuracy: 0.8354\n",
      "Epoch 19/100\n",
      "800/800 [==============================] - 2s 3ms/step - loss: 0.3978 - accuracy: 0.8340\n",
      "Epoch 20/100\n",
      "800/800 [==============================] - 2s 3ms/step - loss: 0.3972 - accuracy: 0.8364\n",
      "Epoch 21/100\n",
      "800/800 [==============================] - 4s 5ms/step - loss: 0.3969 - accuracy: 0.8365\n",
      "Epoch 22/100\n",
      "800/800 [==============================] - 2s 3ms/step - loss: 0.3965 - accuracy: 0.8342\n",
      "Epoch 23/100\n",
      "800/800 [==============================] - 2s 3ms/step - loss: 0.3967 - accuracy: 0.8366\n",
      "Epoch 24/100\n",
      "800/800 [==============================] - 2s 3ms/step - loss: 0.3964 - accuracy: 0.8353\n",
      "Epoch 25/100\n",
      "800/800 [==============================] - 2s 3ms/step - loss: 0.3960 - accuracy: 0.8361\n",
      "Epoch 26/100\n",
      "800/800 [==============================] - 2s 3ms/step - loss: 0.3962 - accuracy: 0.8347\n",
      "Epoch 27/100\n",
      "800/800 [==============================] - 2s 3ms/step - loss: 0.3964 - accuracy: 0.8351\n",
      "Epoch 28/100\n",
      "800/800 [==============================] - 3s 3ms/step - loss: 0.3963 - accuracy: 0.8350\n",
      "Epoch 29/100\n",
      "800/800 [==============================] - 2s 3ms/step - loss: 0.3956 - accuracy: 0.8342\n",
      "Epoch 30/100\n",
      "800/800 [==============================] - 3s 3ms/step - loss: 0.3956 - accuracy: 0.8363\n",
      "Epoch 31/100\n",
      "800/800 [==============================] - 2s 3ms/step - loss: 0.3960 - accuracy: 0.8345\n",
      "Epoch 32/100\n",
      "800/800 [==============================] - 2s 3ms/step - loss: 0.3959 - accuracy: 0.8344\n",
      "Epoch 33/100\n",
      "800/800 [==============================] - 2s 3ms/step - loss: 0.3948 - accuracy: 0.8346\n",
      "Epoch 34/100\n",
      "800/800 [==============================] - 2s 3ms/step - loss: 0.3952 - accuracy: 0.8371\n",
      "Epoch 35/100\n",
      "800/800 [==============================] - 3s 4ms/step - loss: 0.3952 - accuracy: 0.8359\n",
      "Epoch 36/100\n",
      "800/800 [==============================] - 2s 3ms/step - loss: 0.3952 - accuracy: 0.8356\n",
      "Epoch 37/100\n",
      "800/800 [==============================] - 2s 3ms/step - loss: 0.3948 - accuracy: 0.8350\n",
      "Epoch 38/100\n",
      "800/800 [==============================] - 2s 2ms/step - loss: 0.3945 - accuracy: 0.8360\n",
      "Epoch 39/100\n",
      "800/800 [==============================] - 2s 2ms/step - loss: 0.3942 - accuracy: 0.8361\n",
      "Epoch 40/100\n",
      "800/800 [==============================] - 3s 4ms/step - loss: 0.3950 - accuracy: 0.8361\n",
      "Epoch 41/100\n",
      "800/800 [==============================] - 2s 3ms/step - loss: 0.3942 - accuracy: 0.8356\n",
      "Epoch 42/100\n",
      "800/800 [==============================] - 2s 2ms/step - loss: 0.3943 - accuracy: 0.8361\n",
      "Epoch 43/100\n",
      "800/800 [==============================] - 2s 2ms/step - loss: 0.3941 - accuracy: 0.8378\n",
      "Epoch 44/100\n",
      "800/800 [==============================] - 2s 2ms/step - loss: 0.3947 - accuracy: 0.8356\n",
      "Epoch 45/100\n",
      "800/800 [==============================] - 2s 2ms/step - loss: 0.3948 - accuracy: 0.8353\n",
      "Epoch 46/100\n",
      "800/800 [==============================] - 2s 3ms/step - loss: 0.3948 - accuracy: 0.8341\n",
      "Epoch 47/100\n",
      "800/800 [==============================] - 2s 2ms/step - loss: 0.3944 - accuracy: 0.8364\n",
      "Epoch 48/100\n",
      "800/800 [==============================] - 2s 3ms/step - loss: 0.3940 - accuracy: 0.8366\n",
      "Epoch 49/100\n",
      "800/800 [==============================] - 3s 3ms/step - loss: 0.3940 - accuracy: 0.8340\n",
      "Epoch 50/100\n",
      "800/800 [==============================] - 2s 2ms/step - loss: 0.3944 - accuracy: 0.8363\n",
      "Epoch 51/100\n",
      "800/800 [==============================] - 2s 2ms/step - loss: 0.3943 - accuracy: 0.8365\n",
      "Epoch 52/100\n",
      "800/800 [==============================] - 2s 2ms/step - loss: 0.3938 - accuracy: 0.8353\n",
      "Epoch 53/100\n",
      "800/800 [==============================] - 2s 2ms/step - loss: 0.3944 - accuracy: 0.8346\n",
      "Epoch 54/100\n",
      "800/800 [==============================] - 2s 2ms/step - loss: 0.3943 - accuracy: 0.8346\n",
      "Epoch 55/100\n",
      "800/800 [==============================] - 2s 2ms/step - loss: 0.3941 - accuracy: 0.8357\n",
      "Epoch 56/100\n",
      "800/800 [==============================] - 2s 2ms/step - loss: 0.3936 - accuracy: 0.8356\n",
      "Epoch 57/100\n",
      "800/800 [==============================] - 2s 3ms/step - loss: 0.3938 - accuracy: 0.8345\n",
      "Epoch 58/100\n",
      "800/800 [==============================] - 2s 2ms/step - loss: 0.3938 - accuracy: 0.8336\n",
      "Epoch 59/100\n",
      "800/800 [==============================] - 2s 2ms/step - loss: 0.3940 - accuracy: 0.8356\n",
      "Epoch 60/100\n",
      "800/800 [==============================] - 2s 2ms/step - loss: 0.3937 - accuracy: 0.8353\n",
      "Epoch 61/100\n",
      "800/800 [==============================] - 2s 2ms/step - loss: 0.3936 - accuracy: 0.8357\n",
      "Epoch 62/100\n",
      "800/800 [==============================] - 2s 2ms/step - loss: 0.3937 - accuracy: 0.8353\n",
      "Epoch 63/100\n",
      "800/800 [==============================] - 2s 3ms/step - loss: 0.3935 - accuracy: 0.8364\n",
      "Epoch 64/100\n",
      "800/800 [==============================] - 2s 3ms/step - loss: 0.3939 - accuracy: 0.8351\n",
      "Epoch 65/100\n",
      "800/800 [==============================] - 2s 3ms/step - loss: 0.3940 - accuracy: 0.8363\n",
      "Epoch 66/100\n",
      "800/800 [==============================] - 2s 2ms/step - loss: 0.3934 - accuracy: 0.8363\n",
      "Epoch 67/100\n",
      "800/800 [==============================] - 2s 2ms/step - loss: 0.3939 - accuracy: 0.8350\n",
      "Epoch 68/100\n",
      "800/800 [==============================] - 2s 2ms/step - loss: 0.3937 - accuracy: 0.8350\n",
      "Epoch 69/100\n",
      "800/800 [==============================] - 2s 2ms/step - loss: 0.3934 - accuracy: 0.8375\n",
      "Epoch 70/100\n",
      "800/800 [==============================] - 2s 2ms/step - loss: 0.3933 - accuracy: 0.8341\n",
      "Epoch 71/100\n",
      "800/800 [==============================] - 2s 2ms/step - loss: 0.3938 - accuracy: 0.8372\n",
      "Epoch 72/100\n",
      "800/800 [==============================] - 2s 2ms/step - loss: 0.3935 - accuracy: 0.8350\n",
      "Epoch 73/100\n",
      "800/800 [==============================] - 2s 2ms/step - loss: 0.3938 - accuracy: 0.8379\n",
      "Epoch 74/100\n",
      "800/800 [==============================] - 3s 3ms/step - loss: 0.3931 - accuracy: 0.8364\n",
      "Epoch 75/100\n",
      "800/800 [==============================] - 3s 4ms/step - loss: 0.3934 - accuracy: 0.8349\n",
      "Epoch 76/100\n",
      "800/800 [==============================] - 3s 4ms/step - loss: 0.3934 - accuracy: 0.8370\n",
      "Epoch 77/100\n",
      "800/800 [==============================] - 3s 4ms/step - loss: 0.3929 - accuracy: 0.8356\n",
      "Epoch 78/100\n",
      "800/800 [==============================] - 2s 2ms/step - loss: 0.3926 - accuracy: 0.8357\n",
      "Epoch 79/100\n",
      "800/800 [==============================] - 2s 2ms/step - loss: 0.3928 - accuracy: 0.8345\n",
      "Epoch 80/100\n",
      "800/800 [==============================] - 2s 2ms/step - loss: 0.3925 - accuracy: 0.8367\n",
      "Epoch 81/100\n",
      "800/800 [==============================] - 3s 3ms/step - loss: 0.3921 - accuracy: 0.8389\n",
      "Epoch 82/100\n",
      "800/800 [==============================] - 3s 4ms/step - loss: 0.3922 - accuracy: 0.8376\n",
      "Epoch 83/100\n",
      "800/800 [==============================] - 3s 4ms/step - loss: 0.3907 - accuracy: 0.8371\n",
      "Epoch 84/100\n",
      "800/800 [==============================] - 4s 5ms/step - loss: 0.3894 - accuracy: 0.8382\n",
      "Epoch 85/100\n",
      "800/800 [==============================] - 3s 4ms/step - loss: 0.3868 - accuracy: 0.8388\n",
      "Epoch 86/100\n",
      "800/800 [==============================] - 3s 4ms/step - loss: 0.3847 - accuracy: 0.8359\n",
      "Epoch 87/100\n",
      "800/800 [==============================] - 4s 5ms/step - loss: 0.3802 - accuracy: 0.8399\n",
      "Epoch 88/100\n",
      "800/800 [==============================] - 4s 4ms/step - loss: 0.3753 - accuracy: 0.8432\n",
      "Epoch 89/100\n",
      "800/800 [==============================] - 4s 4ms/step - loss: 0.3716 - accuracy: 0.8435\n",
      "Epoch 90/100\n",
      "800/800 [==============================] - 4s 4ms/step - loss: 0.3687 - accuracy: 0.8468\n",
      "Epoch 91/100\n",
      "800/800 [==============================] - 4s 5ms/step - loss: 0.3658 - accuracy: 0.8464\n",
      "Epoch 92/100\n",
      "800/800 [==============================] - 3s 3ms/step - loss: 0.3638 - accuracy: 0.8490\n",
      "Epoch 93/100\n",
      "800/800 [==============================] - 3s 4ms/step - loss: 0.3600 - accuracy: 0.8534\n",
      "Epoch 94/100\n",
      "800/800 [==============================] - 3s 4ms/step - loss: 0.3578 - accuracy: 0.8565\n",
      "Epoch 95/100\n",
      "800/800 [==============================] - 3s 4ms/step - loss: 0.3567 - accuracy: 0.8571\n",
      "Epoch 96/100\n",
      "800/800 [==============================] - 3s 4ms/step - loss: 0.3554 - accuracy: 0.8579\n",
      "Epoch 97/100\n",
      "800/800 [==============================] - 3s 3ms/step - loss: 0.3536 - accuracy: 0.8595\n",
      "Epoch 98/100\n",
      "800/800 [==============================] - 3s 3ms/step - loss: 0.3538 - accuracy: 0.8597\n",
      "Epoch 99/100\n",
      "800/800 [==============================] - 3s 3ms/step - loss: 0.3534 - accuracy: 0.8583\n",
      "Epoch 100/100\n",
      "800/800 [==============================] - 2s 2ms/step - loss: 0.3529 - accuracy: 0.8602\n"
     ]
    },
    {
     "data": {
      "text/plain": [
       "<keras.src.callbacks.History at 0x227d5db0b10>"
      ]
     },
     "execution_count": 11,
     "metadata": {},
     "output_type": "execute_result"
    }
   ],
   "source": [
    "# Fitting ANN ke training set\n",
    "MesinKlasifikasi.fit(X_train, y_train, batch_size = 10, epochs = 100)"
   ]
  },
  {
   "cell_type": "code",
   "execution_count": 12,
   "metadata": {},
   "outputs": [
    {
     "name": "stdout",
     "output_type": "stream",
     "text": [
      "63/63 [==============================] - 0s 2ms/step\n"
     ]
    }
   ],
   "source": [
    "# Memprediksi hasil test set\n",
    "y_pred = MesinKlasifikasi.predict(X_test)\n",
    "y_pred = (y_pred > 0.5) # jika nilai probabilitas > 0.5, maka akan bernilai 1"
   ]
  },
  {
   "cell_type": "code",
   "execution_count": 13,
   "metadata": {},
   "outputs": [
    {
     "data": {
      "text/plain": [
       "array([[False],\n",
       "       [False],\n",
       "       [False],\n",
       "       ...,\n",
       "       [False],\n",
       "       [False],\n",
       "       [False]])"
      ]
     },
     "execution_count": 13,
     "metadata": {},
     "output_type": "execute_result"
    }
   ],
   "source": [
    "y_pred"
   ]
  },
  {
   "cell_type": "code",
   "execution_count": 14,
   "metadata": {},
   "outputs": [],
   "source": [
    "# Membuat confusion matrix\n",
    "from sklearn.metrics import confusion_matrix\n",
    "cm = confusion_matrix(y_test, y_pred)"
   ]
  },
  {
   "cell_type": "code",
   "execution_count": 15,
   "metadata": {},
   "outputs": [
    {
     "data": {
      "text/plain": [
       "array([[1527,   68],\n",
       "       [ 206,  199]], dtype=int64)"
      ]
     },
     "execution_count": 15,
     "metadata": {},
     "output_type": "execute_result"
    }
   ],
   "source": [
    "cm"
   ]
  }
 ],
 "metadata": {
  "kernelspec": {
   "display_name": "Python 3",
   "language": "python",
   "name": "python3"
  },
  "language_info": {
   "codemirror_mode": {
    "name": "ipython",
    "version": 3
   },
   "file_extension": ".py",
   "mimetype": "text/x-python",
   "name": "python",
   "nbconvert_exporter": "python",
   "pygments_lexer": "ipython3",
   "version": "3.11.6"
  }
 },
 "nbformat": 4,
 "nbformat_minor": 2
}
