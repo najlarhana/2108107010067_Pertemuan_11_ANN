{
 "cells": [
  {
   "cell_type": "markdown",
   "metadata": {},
   "source": [
    "## Informasi Mahasiswa \n",
    "\n",
    "Nama: Najla Raihana Kamila \n",
    "\n",
    "NPM: 2108107010067"
   ]
  },
  {
   "cell_type": "markdown",
   "metadata": {},
   "source": [
    "## Jenis Dataset \n",
    "\n",
    "Pada tugas ini, saya menggunakan dataset https://www.kaggle.com/datasets/pushprajnamdev/diabetes-dataset yang diambil dari Kaggle. Dataset ini berisi 9 kolom dengan jumlah baris sebanyak 768 mengenai data pasien yang menderita diabetes berumur minimal 21 tahun. 9 kolom yang terdapat di dalam dataset:\n",
    "1. pregnancies : Jumlah kehamilan \n",
    "2. glucose : konsentrasi glukosa dalam plasma setelah 2 jam dalam uji toleransi glukosa oral\n",
    "3. bloodpressure : Tekanan darah diastolic (mm Hg)\n",
    "4. skinthickness : Ketebalan lipatan kulit trisep (mm)  \n",
    "5. Insulin : Insulin serum 2 jam (mu U/ml)\n",
    "6. bmi : Indeks Massa Tubuh (IMT) (berat dalam kg/(tinggi dalam m)^2)\n",
    "7. diabetespedigree : Fungsi diabetes pedigree\n",
    "8. age : Umur (tahun)\n",
    "9. outcome : Hasil diabetes atau tidak "
   ]
  },
  {
   "cell_type": "markdown",
   "metadata": {},
   "source": [
    "### Studi Kasus\n",
    "Membuat model prediksi diagnosa diabetes dengan melihat dari tingkat glucose dan BMI yang dimiliki oleh pasien"
   ]
  },
  {
   "cell_type": "markdown",
   "metadata": {},
   "source": [
    "## Import library yang digunakan"
   ]
  },
  {
   "cell_type": "code",
   "execution_count": 88,
   "metadata": {},
   "outputs": [],
   "source": [
    "import pandas as pd\n",
    "import numpy as np\n",
    "import matplotlib.pyplot as plt\n",
    "from keras.models import Sequential\n",
    "from keras.layers import Dense, Activation\n",
    "from keras.layers import Dense\n",
    "from sklearn.preprocessing import StandardScaler\n",
    "from sklearn.metrics import accuracy_score, classification_report\n",
    "from sklearn.model_selection import train_test_split"
   ]
  },
  {
   "cell_type": "markdown",
   "metadata": {},
   "source": [
    "## Gathering Data"
   ]
  },
  {
   "cell_type": "code",
   "execution_count": 89,
   "metadata": {},
   "outputs": [
    {
     "data": {
      "text/html": [
       "<div>\n",
       "<style scoped>\n",
       "    .dataframe tbody tr th:only-of-type {\n",
       "        vertical-align: middle;\n",
       "    }\n",
       "\n",
       "    .dataframe tbody tr th {\n",
       "        vertical-align: top;\n",
       "    }\n",
       "\n",
       "    .dataframe thead th {\n",
       "        text-align: right;\n",
       "    }\n",
       "</style>\n",
       "<table border=\"1\" class=\"dataframe\">\n",
       "  <thead>\n",
       "    <tr style=\"text-align: right;\">\n",
       "      <th></th>\n",
       "      <th>pregnancies</th>\n",
       "      <th>glucose</th>\n",
       "      <th>bloodpressure</th>\n",
       "      <th>skinthickness</th>\n",
       "      <th>insulin</th>\n",
       "      <th>bmi</th>\n",
       "      <th>diabetespedigreefunction</th>\n",
       "      <th>age</th>\n",
       "      <th>outcome</th>\n",
       "    </tr>\n",
       "  </thead>\n",
       "  <tbody>\n",
       "    <tr>\n",
       "      <th>0</th>\n",
       "      <td>6</td>\n",
       "      <td>148</td>\n",
       "      <td>72</td>\n",
       "      <td>35</td>\n",
       "      <td>0</td>\n",
       "      <td>33.6</td>\n",
       "      <td>0.627</td>\n",
       "      <td>50</td>\n",
       "      <td>True</td>\n",
       "    </tr>\n",
       "    <tr>\n",
       "      <th>1</th>\n",
       "      <td>1</td>\n",
       "      <td>85</td>\n",
       "      <td>66</td>\n",
       "      <td>29</td>\n",
       "      <td>0</td>\n",
       "      <td>26.6</td>\n",
       "      <td>0.351</td>\n",
       "      <td>31</td>\n",
       "      <td>False</td>\n",
       "    </tr>\n",
       "    <tr>\n",
       "      <th>2</th>\n",
       "      <td>8</td>\n",
       "      <td>183</td>\n",
       "      <td>64</td>\n",
       "      <td>0</td>\n",
       "      <td>0</td>\n",
       "      <td>23.3</td>\n",
       "      <td>0.672</td>\n",
       "      <td>32</td>\n",
       "      <td>True</td>\n",
       "    </tr>\n",
       "    <tr>\n",
       "      <th>3</th>\n",
       "      <td>1</td>\n",
       "      <td>89</td>\n",
       "      <td>66</td>\n",
       "      <td>23</td>\n",
       "      <td>94</td>\n",
       "      <td>28.1</td>\n",
       "      <td>0.167</td>\n",
       "      <td>21</td>\n",
       "      <td>False</td>\n",
       "    </tr>\n",
       "    <tr>\n",
       "      <th>4</th>\n",
       "      <td>0</td>\n",
       "      <td>137</td>\n",
       "      <td>40</td>\n",
       "      <td>35</td>\n",
       "      <td>168</td>\n",
       "      <td>43.1</td>\n",
       "      <td>2.288</td>\n",
       "      <td>33</td>\n",
       "      <td>True</td>\n",
       "    </tr>\n",
       "    <tr>\n",
       "      <th>...</th>\n",
       "      <td>...</td>\n",
       "      <td>...</td>\n",
       "      <td>...</td>\n",
       "      <td>...</td>\n",
       "      <td>...</td>\n",
       "      <td>...</td>\n",
       "      <td>...</td>\n",
       "      <td>...</td>\n",
       "      <td>...</td>\n",
       "    </tr>\n",
       "    <tr>\n",
       "      <th>763</th>\n",
       "      <td>10</td>\n",
       "      <td>101</td>\n",
       "      <td>76</td>\n",
       "      <td>48</td>\n",
       "      <td>180</td>\n",
       "      <td>32.9</td>\n",
       "      <td>0.171</td>\n",
       "      <td>63</td>\n",
       "      <td>False</td>\n",
       "    </tr>\n",
       "    <tr>\n",
       "      <th>764</th>\n",
       "      <td>2</td>\n",
       "      <td>122</td>\n",
       "      <td>70</td>\n",
       "      <td>27</td>\n",
       "      <td>0</td>\n",
       "      <td>36.8</td>\n",
       "      <td>0.340</td>\n",
       "      <td>27</td>\n",
       "      <td>False</td>\n",
       "    </tr>\n",
       "    <tr>\n",
       "      <th>765</th>\n",
       "      <td>5</td>\n",
       "      <td>121</td>\n",
       "      <td>72</td>\n",
       "      <td>23</td>\n",
       "      <td>112</td>\n",
       "      <td>26.2</td>\n",
       "      <td>0.245</td>\n",
       "      <td>30</td>\n",
       "      <td>False</td>\n",
       "    </tr>\n",
       "    <tr>\n",
       "      <th>766</th>\n",
       "      <td>1</td>\n",
       "      <td>126</td>\n",
       "      <td>60</td>\n",
       "      <td>0</td>\n",
       "      <td>0</td>\n",
       "      <td>30.1</td>\n",
       "      <td>0.349</td>\n",
       "      <td>47</td>\n",
       "      <td>True</td>\n",
       "    </tr>\n",
       "    <tr>\n",
       "      <th>767</th>\n",
       "      <td>1</td>\n",
       "      <td>93</td>\n",
       "      <td>70</td>\n",
       "      <td>31</td>\n",
       "      <td>0</td>\n",
       "      <td>30.4</td>\n",
       "      <td>0.315</td>\n",
       "      <td>23</td>\n",
       "      <td>False</td>\n",
       "    </tr>\n",
       "  </tbody>\n",
       "</table>\n",
       "<p>768 rows × 9 columns</p>\n",
       "</div>"
      ],
      "text/plain": [
       "     pregnancies  glucose  bloodpressure  skinthickness  insulin   bmi  \\\n",
       "0              6      148             72             35        0  33.6   \n",
       "1              1       85             66             29        0  26.6   \n",
       "2              8      183             64              0        0  23.3   \n",
       "3              1       89             66             23       94  28.1   \n",
       "4              0      137             40             35      168  43.1   \n",
       "..           ...      ...            ...            ...      ...   ...   \n",
       "763           10      101             76             48      180  32.9   \n",
       "764            2      122             70             27        0  36.8   \n",
       "765            5      121             72             23      112  26.2   \n",
       "766            1      126             60              0        0  30.1   \n",
       "767            1       93             70             31        0  30.4   \n",
       "\n",
       "     diabetespedigreefunction  age  outcome  \n",
       "0                       0.627   50     True  \n",
       "1                       0.351   31    False  \n",
       "2                       0.672   32     True  \n",
       "3                       0.167   21    False  \n",
       "4                       2.288   33     True  \n",
       "..                        ...  ...      ...  \n",
       "763                     0.171   63    False  \n",
       "764                     0.340   27    False  \n",
       "765                     0.245   30    False  \n",
       "766                     0.349   47     True  \n",
       "767                     0.315   23    False  \n",
       "\n",
       "[768 rows x 9 columns]"
      ]
     },
     "execution_count": 89,
     "metadata": {},
     "output_type": "execute_result"
    }
   ],
   "source": [
    "# membaca dataset \n",
    "data = pd.read_csv('diabetes.csv')\n",
    "data"
   ]
  },
  {
   "cell_type": "markdown",
   "metadata": {},
   "source": [
    "## Assessing Data"
   ]
  },
  {
   "cell_type": "code",
   "execution_count": 90,
   "metadata": {},
   "outputs": [
    {
     "name": "stdout",
     "output_type": "stream",
     "text": [
      "<class 'pandas.core.frame.DataFrame'>\n",
      "RangeIndex: 768 entries, 0 to 767\n",
      "Data columns (total 9 columns):\n",
      " #   Column                    Non-Null Count  Dtype  \n",
      "---  ------                    --------------  -----  \n",
      " 0   pregnancies               768 non-null    int64  \n",
      " 1   glucose                   768 non-null    int64  \n",
      " 2   bloodpressure             768 non-null    int64  \n",
      " 3   skinthickness             768 non-null    int64  \n",
      " 4   insulin                   768 non-null    int64  \n",
      " 5   bmi                       768 non-null    float64\n",
      " 6   diabetespedigreefunction  768 non-null    float64\n",
      " 7   age                       768 non-null    int64  \n",
      " 8   outcome                   768 non-null    bool   \n",
      "dtypes: bool(1), float64(2), int64(6)\n",
      "memory usage: 48.9 KB\n"
     ]
    }
   ],
   "source": [
    "# info tipe data\n",
    "data.info()"
   ]
  },
  {
   "cell_type": "code",
   "execution_count": 91,
   "metadata": {},
   "outputs": [
    {
     "data": {
      "text/plain": [
       "6912"
      ]
     },
     "execution_count": 91,
     "metadata": {},
     "output_type": "execute_result"
    }
   ],
   "source": [
    "# melihat ukuran data\n",
    "data.size"
   ]
  },
  {
   "cell_type": "code",
   "execution_count": 92,
   "metadata": {},
   "outputs": [
    {
     "data": {
      "text/plain": [
       "pregnancies                 0\n",
       "glucose                     0\n",
       "bloodpressure               0\n",
       "skinthickness               0\n",
       "insulin                     0\n",
       "bmi                         0\n",
       "diabetespedigreefunction    0\n",
       "age                         0\n",
       "outcome                     0\n",
       "dtype: int64"
      ]
     },
     "execution_count": 92,
     "metadata": {},
     "output_type": "execute_result"
    }
   ],
   "source": [
    "# mengecek missing value\n",
    "data.isna().sum()"
   ]
  },
  {
   "cell_type": "code",
   "execution_count": 93,
   "metadata": {},
   "outputs": [
    {
     "name": "stdout",
     "output_type": "stream",
     "text": [
      "Tidak ada duplikasi data.\n"
     ]
    }
   ],
   "source": [
    "# mengecek duplicate data\n",
    "duplicate_rows = data[data.duplicated()]\n",
    "\n",
    "# menampilkan baris duplikasi (jika ada)\n",
    "if not duplicate_rows.empty:\n",
    "    print(\"Duplikasi data ditemukan:\")\n",
    "    print(duplicate_rows)\n",
    "else:\n",
    "    print(\"Tidak ada duplikasi data.\")"
   ]
  },
  {
   "cell_type": "code",
   "execution_count": 94,
   "metadata": {},
   "outputs": [
    {
     "data": {
      "text/html": [
       "<div>\n",
       "<style scoped>\n",
       "    .dataframe tbody tr th:only-of-type {\n",
       "        vertical-align: middle;\n",
       "    }\n",
       "\n",
       "    .dataframe tbody tr th {\n",
       "        vertical-align: top;\n",
       "    }\n",
       "\n",
       "    .dataframe thead th {\n",
       "        text-align: right;\n",
       "    }\n",
       "</style>\n",
       "<table border=\"1\" class=\"dataframe\">\n",
       "  <thead>\n",
       "    <tr style=\"text-align: right;\">\n",
       "      <th></th>\n",
       "      <th>pregnancies</th>\n",
       "      <th>glucose</th>\n",
       "      <th>bloodpressure</th>\n",
       "      <th>skinthickness</th>\n",
       "      <th>insulin</th>\n",
       "      <th>bmi</th>\n",
       "      <th>diabetespedigreefunction</th>\n",
       "      <th>age</th>\n",
       "    </tr>\n",
       "  </thead>\n",
       "  <tbody>\n",
       "    <tr>\n",
       "      <th>count</th>\n",
       "      <td>768.000000</td>\n",
       "      <td>768.000000</td>\n",
       "      <td>768.000000</td>\n",
       "      <td>768.000000</td>\n",
       "      <td>768.000000</td>\n",
       "      <td>768.000000</td>\n",
       "      <td>768.000000</td>\n",
       "      <td>768.000000</td>\n",
       "    </tr>\n",
       "    <tr>\n",
       "      <th>mean</th>\n",
       "      <td>3.845052</td>\n",
       "      <td>120.894531</td>\n",
       "      <td>69.105469</td>\n",
       "      <td>20.536458</td>\n",
       "      <td>79.799479</td>\n",
       "      <td>31.992578</td>\n",
       "      <td>0.471876</td>\n",
       "      <td>33.240885</td>\n",
       "    </tr>\n",
       "    <tr>\n",
       "      <th>std</th>\n",
       "      <td>3.369578</td>\n",
       "      <td>31.972618</td>\n",
       "      <td>19.355807</td>\n",
       "      <td>15.952218</td>\n",
       "      <td>115.244002</td>\n",
       "      <td>7.884160</td>\n",
       "      <td>0.331329</td>\n",
       "      <td>11.760232</td>\n",
       "    </tr>\n",
       "    <tr>\n",
       "      <th>min</th>\n",
       "      <td>0.000000</td>\n",
       "      <td>0.000000</td>\n",
       "      <td>0.000000</td>\n",
       "      <td>0.000000</td>\n",
       "      <td>0.000000</td>\n",
       "      <td>0.000000</td>\n",
       "      <td>0.078000</td>\n",
       "      <td>21.000000</td>\n",
       "    </tr>\n",
       "    <tr>\n",
       "      <th>25%</th>\n",
       "      <td>1.000000</td>\n",
       "      <td>99.000000</td>\n",
       "      <td>62.000000</td>\n",
       "      <td>0.000000</td>\n",
       "      <td>0.000000</td>\n",
       "      <td>27.300000</td>\n",
       "      <td>0.243750</td>\n",
       "      <td>24.000000</td>\n",
       "    </tr>\n",
       "    <tr>\n",
       "      <th>50%</th>\n",
       "      <td>3.000000</td>\n",
       "      <td>117.000000</td>\n",
       "      <td>72.000000</td>\n",
       "      <td>23.000000</td>\n",
       "      <td>30.500000</td>\n",
       "      <td>32.000000</td>\n",
       "      <td>0.372500</td>\n",
       "      <td>29.000000</td>\n",
       "    </tr>\n",
       "    <tr>\n",
       "      <th>75%</th>\n",
       "      <td>6.000000</td>\n",
       "      <td>140.250000</td>\n",
       "      <td>80.000000</td>\n",
       "      <td>32.000000</td>\n",
       "      <td>127.250000</td>\n",
       "      <td>36.600000</td>\n",
       "      <td>0.626250</td>\n",
       "      <td>41.000000</td>\n",
       "    </tr>\n",
       "    <tr>\n",
       "      <th>max</th>\n",
       "      <td>17.000000</td>\n",
       "      <td>199.000000</td>\n",
       "      <td>122.000000</td>\n",
       "      <td>99.000000</td>\n",
       "      <td>846.000000</td>\n",
       "      <td>67.100000</td>\n",
       "      <td>2.420000</td>\n",
       "      <td>81.000000</td>\n",
       "    </tr>\n",
       "  </tbody>\n",
       "</table>\n",
       "</div>"
      ],
      "text/plain": [
       "       pregnancies     glucose  bloodpressure  skinthickness     insulin  \\\n",
       "count   768.000000  768.000000     768.000000     768.000000  768.000000   \n",
       "mean      3.845052  120.894531      69.105469      20.536458   79.799479   \n",
       "std       3.369578   31.972618      19.355807      15.952218  115.244002   \n",
       "min       0.000000    0.000000       0.000000       0.000000    0.000000   \n",
       "25%       1.000000   99.000000      62.000000       0.000000    0.000000   \n",
       "50%       3.000000  117.000000      72.000000      23.000000   30.500000   \n",
       "75%       6.000000  140.250000      80.000000      32.000000  127.250000   \n",
       "max      17.000000  199.000000     122.000000      99.000000  846.000000   \n",
       "\n",
       "              bmi  diabetespedigreefunction         age  \n",
       "count  768.000000                768.000000  768.000000  \n",
       "mean    31.992578                  0.471876   33.240885  \n",
       "std      7.884160                  0.331329   11.760232  \n",
       "min      0.000000                  0.078000   21.000000  \n",
       "25%     27.300000                  0.243750   24.000000  \n",
       "50%     32.000000                  0.372500   29.000000  \n",
       "75%     36.600000                  0.626250   41.000000  \n",
       "max     67.100000                  2.420000   81.000000  "
      ]
     },
     "execution_count": 94,
     "metadata": {},
     "output_type": "execute_result"
    }
   ],
   "source": [
    "# melihat statistik parameter \n",
    "data.describe()"
   ]
  },
  {
   "cell_type": "markdown",
   "metadata": {},
   "source": [
    "## Preprocessing Data"
   ]
  },
  {
   "cell_type": "code",
   "execution_count": 95,
   "metadata": {},
   "outputs": [],
   "source": [
    "# mengubah label ke dalam bentuk numerik\n",
    "from sklearn.preprocessing import LabelEncoder\n",
    "enc=LabelEncoder()\n",
    "data[\"outcome\"]=enc.fit_transform(data[\"outcome\"]) # 1 iya, 0 tidak"
   ]
  },
  {
   "cell_type": "code",
   "execution_count": 97,
   "metadata": {},
   "outputs": [],
   "source": [
    "# memisahkan variabel independen dan variabel dependen\n",
    "X = data[['pregnancies','glucose', 'bloodpressure', 'skinthickness', 'insulin', 'bmi', 'diabetespedigreefunction','age']] # independen/fitur\n",
    "Y = data['outcome'] # dependen/label "
   ]
  },
  {
   "cell_type": "code",
   "execution_count": 98,
   "metadata": {},
   "outputs": [],
   "source": [
    "# melakukan skala fitur sehingga jarak antar data seragam\n",
    "scaler = StandardScaler()\n",
    "X_scaled = scaler.fit_transform(X) # menyimpan data scaler"
   ]
  },
  {
   "cell_type": "code",
   "execution_count": 99,
   "metadata": {},
   "outputs": [
    {
     "name": "stdout",
     "output_type": "stream",
     "text": [
      "<class 'pandas.core.frame.DataFrame'>\n",
      "RangeIndex: 768 entries, 0 to 767\n",
      "Data columns (total 8 columns):\n",
      " #   Column                    Non-Null Count  Dtype  \n",
      "---  ------                    --------------  -----  \n",
      " 0   pregnancies               768 non-null    int64  \n",
      " 1   glucose                   768 non-null    int64  \n",
      " 2   bloodpressure             768 non-null    int64  \n",
      " 3   skinthickness             768 non-null    int64  \n",
      " 4   insulin                   768 non-null    int64  \n",
      " 5   bmi                       768 non-null    float64\n",
      " 6   diabetespedigreefunction  768 non-null    float64\n",
      " 7   age                       768 non-null    int64  \n",
      "dtypes: float64(2), int64(6)\n",
      "memory usage: 48.1 KB\n"
     ]
    }
   ],
   "source": [
    "X.info()"
   ]
  },
  {
   "cell_type": "code",
   "execution_count": 100,
   "metadata": {},
   "outputs": [
    {
     "name": "stdout",
     "output_type": "stream",
     "text": [
      "<class 'pandas.core.series.Series'>\n",
      "RangeIndex: 768 entries, 0 to 767\n",
      "Series name: outcome\n",
      "Non-Null Count  Dtype\n",
      "--------------  -----\n",
      "768 non-null    int64\n",
      "dtypes: int64(1)\n",
      "memory usage: 6.1 KB\n"
     ]
    }
   ],
   "source": [
    "Y.info()"
   ]
  },
  {
   "cell_type": "code",
   "execution_count": 101,
   "metadata": {},
   "outputs": [],
   "source": [
    "# melakukan split data \n",
    "X_train, X_test, y_train, y_test = train_test_split(X_scaled, Y, test_size=0.2, random_state=42)"
   ]
  },
  {
   "cell_type": "code",
   "execution_count": 102,
   "metadata": {},
   "outputs": [
    {
     "data": {
      "text/plain": [
       "614"
      ]
     },
     "execution_count": 102,
     "metadata": {},
     "output_type": "execute_result"
    }
   ],
   "source": [
    "len(X_train)"
   ]
  },
  {
   "cell_type": "code",
   "execution_count": 103,
   "metadata": {},
   "outputs": [
    {
     "data": {
      "text/plain": [
       "614"
      ]
     },
     "execution_count": 103,
     "metadata": {},
     "output_type": "execute_result"
    }
   ],
   "source": [
    "len(y_train)"
   ]
  },
  {
   "cell_type": "markdown",
   "metadata": {},
   "source": [
    "## Membuat model Keras"
   ]
  },
  {
   "cell_type": "markdown",
   "metadata": {},
   "source": [
    "Model keras yang akan dibangun:\n",
    "1. memiliki 3 hidden layer\n",
    "2. Dengan total 22 neuron\n",
    "3. Menggunakan dua jenis activation function yaitu RelU untuk layer pertama dan kedua sedangkan layer terakhir menggunakan function Sigmoid karena output yang diharapkan adalah 2 kategori"
   ]
  },
  {
   "cell_type": "code",
   "execution_count": 104,
   "metadata": {},
   "outputs": [],
   "source": [
    "# Inisialisasi ANN\n",
    "MesinKlasifikasi = Sequential()\n",
    "\n",
    "# Menambah input layer dan hidden layer pertama\n",
    "MesinKlasifikasi.add(Dense(12, activation = 'relu', input_dim=8))\n",
    "# Menambah hidden layer kedua\n",
    "MesinKlasifikasi.add(Dense(8, activation = 'relu'))\n",
    "# Menambah output layer\n",
    "MesinKlasifikasi.add(Dense(1, activation = 'sigmoid')) # gunakan sigmoid function karena output adalah 2 kategori (0/1)"
   ]
  },
  {
   "cell_type": "code",
   "execution_count": 105,
   "metadata": {},
   "outputs": [
    {
     "name": "stdout",
     "output_type": "stream",
     "text": [
      "Model: \"sequential_4\"\n",
      "_________________________________________________________________\n",
      " Layer (type)                Output Shape              Param #   \n",
      "=================================================================\n",
      " dense_12 (Dense)            (None, 12)                108       \n",
      "                                                                 \n",
      " dense_13 (Dense)            (None, 8)                 104       \n",
      "                                                                 \n",
      " dense_14 (Dense)            (None, 1)                 9         \n",
      "                                                                 \n",
      "=================================================================\n",
      "Total params: 221 (884.00 Byte)\n",
      "Trainable params: 221 (884.00 Byte)\n",
      "Non-trainable params: 0 (0.00 Byte)\n",
      "_________________________________________________________________\n"
     ]
    }
   ],
   "source": [
    "MesinKlasifikasi.summary()"
   ]
  },
  {
   "cell_type": "code",
   "execution_count": 106,
   "metadata": {},
   "outputs": [],
   "source": [
    "# Compile model NN\n",
    "MesinKlasifikasi.compile(optimizer = 'adam', loss = 'binary_crossentropy', metrics = ['accuracy'])"
   ]
  },
  {
   "cell_type": "code",
   "execution_count": 107,
   "metadata": {},
   "outputs": [
    {
     "name": "stdout",
     "output_type": "stream",
     "text": [
      "Epoch 1/150\n"
     ]
    },
    {
     "name": "stdout",
     "output_type": "stream",
     "text": [
      "42/42 [==============================] - 2s 11ms/step - loss: 0.7213 - accuracy: 0.3893 - val_loss: 0.6895 - val_accuracy: 0.5123\n",
      "Epoch 2/150\n",
      "42/42 [==============================] - 0s 6ms/step - loss: 0.6744 - accuracy: 0.5547 - val_loss: 0.6571 - val_accuracy: 0.6798\n",
      "Epoch 3/150\n",
      "42/42 [==============================] - 0s 6ms/step - loss: 0.6377 - accuracy: 0.6861 - val_loss: 0.6313 - val_accuracy: 0.7094\n",
      "Epoch 4/150\n",
      "42/42 [==============================] - 0s 7ms/step - loss: 0.6039 - accuracy: 0.7324 - val_loss: 0.6077 - val_accuracy: 0.6700\n",
      "Epoch 5/150\n",
      "42/42 [==============================] - 0s 5ms/step - loss: 0.5755 - accuracy: 0.7324 - val_loss: 0.5922 - val_accuracy: 0.6897\n",
      "Epoch 6/150\n",
      "42/42 [==============================] - 0s 6ms/step - loss: 0.5507 - accuracy: 0.7348 - val_loss: 0.5762 - val_accuracy: 0.6897\n",
      "Epoch 7/150\n",
      "42/42 [==============================] - 0s 6ms/step - loss: 0.5257 - accuracy: 0.7445 - val_loss: 0.5619 - val_accuracy: 0.6897\n",
      "Epoch 8/150\n",
      "42/42 [==============================] - 0s 6ms/step - loss: 0.5052 - accuracy: 0.7567 - val_loss: 0.5497 - val_accuracy: 0.6995\n",
      "Epoch 9/150\n",
      "42/42 [==============================] - 0s 5ms/step - loss: 0.4888 - accuracy: 0.7567 - val_loss: 0.5406 - val_accuracy: 0.7143\n",
      "Epoch 10/150\n",
      "42/42 [==============================] - 0s 6ms/step - loss: 0.4745 - accuracy: 0.7616 - val_loss: 0.5347 - val_accuracy: 0.7094\n",
      "Epoch 11/150\n",
      "42/42 [==============================] - 0s 6ms/step - loss: 0.4651 - accuracy: 0.7713 - val_loss: 0.5295 - val_accuracy: 0.7143\n",
      "Epoch 12/150\n",
      "42/42 [==============================] - 0s 8ms/step - loss: 0.4569 - accuracy: 0.7737 - val_loss: 0.5266 - val_accuracy: 0.7241\n",
      "Epoch 13/150\n",
      "42/42 [==============================] - 0s 6ms/step - loss: 0.4498 - accuracy: 0.7786 - val_loss: 0.5254 - val_accuracy: 0.7192\n",
      "Epoch 14/150\n",
      "42/42 [==============================] - 0s 6ms/step - loss: 0.4444 - accuracy: 0.7786 - val_loss: 0.5246 - val_accuracy: 0.7241\n",
      "Epoch 15/150\n",
      "42/42 [==============================] - 0s 6ms/step - loss: 0.4409 - accuracy: 0.7883 - val_loss: 0.5247 - val_accuracy: 0.7192\n",
      "Epoch 16/150\n",
      "42/42 [==============================] - 0s 6ms/step - loss: 0.4371 - accuracy: 0.7908 - val_loss: 0.5219 - val_accuracy: 0.7192\n",
      "Epoch 17/150\n",
      "42/42 [==============================] - 0s 5ms/step - loss: 0.4350 - accuracy: 0.7883 - val_loss: 0.5216 - val_accuracy: 0.7192\n",
      "Epoch 18/150\n",
      "42/42 [==============================] - 0s 5ms/step - loss: 0.4329 - accuracy: 0.7981 - val_loss: 0.5185 - val_accuracy: 0.7192\n",
      "Epoch 19/150\n",
      "42/42 [==============================] - 0s 5ms/step - loss: 0.4309 - accuracy: 0.7956 - val_loss: 0.5187 - val_accuracy: 0.7241\n",
      "Epoch 20/150\n",
      "42/42 [==============================] - 0s 5ms/step - loss: 0.4289 - accuracy: 0.7932 - val_loss: 0.5186 - val_accuracy: 0.7241\n",
      "Epoch 21/150\n",
      "42/42 [==============================] - 0s 6ms/step - loss: 0.4258 - accuracy: 0.7981 - val_loss: 0.5177 - val_accuracy: 0.7241\n",
      "Epoch 22/150\n",
      "42/42 [==============================] - 0s 5ms/step - loss: 0.4241 - accuracy: 0.7956 - val_loss: 0.5187 - val_accuracy: 0.7241\n",
      "Epoch 23/150\n",
      "42/42 [==============================] - 0s 10ms/step - loss: 0.4220 - accuracy: 0.7981 - val_loss: 0.5186 - val_accuracy: 0.7241\n",
      "Epoch 24/150\n",
      "42/42 [==============================] - 0s 8ms/step - loss: 0.4209 - accuracy: 0.7956 - val_loss: 0.5190 - val_accuracy: 0.7241\n",
      "Epoch 25/150\n",
      "42/42 [==============================] - 1s 14ms/step - loss: 0.4192 - accuracy: 0.8005 - val_loss: 0.5191 - val_accuracy: 0.7291\n",
      "Epoch 26/150\n",
      "42/42 [==============================] - 1s 18ms/step - loss: 0.4187 - accuracy: 0.7981 - val_loss: 0.5183 - val_accuracy: 0.7340\n",
      "Epoch 27/150\n",
      "42/42 [==============================] - 1s 16ms/step - loss: 0.4169 - accuracy: 0.8005 - val_loss: 0.5179 - val_accuracy: 0.7291\n",
      "Epoch 28/150\n",
      "42/42 [==============================] - 1s 17ms/step - loss: 0.4156 - accuracy: 0.8029 - val_loss: 0.5193 - val_accuracy: 0.7241\n",
      "Epoch 29/150\n",
      "42/42 [==============================] - 0s 9ms/step - loss: 0.4144 - accuracy: 0.8078 - val_loss: 0.5205 - val_accuracy: 0.7291\n",
      "Epoch 30/150\n",
      "42/42 [==============================] - 0s 10ms/step - loss: 0.4142 - accuracy: 0.8078 - val_loss: 0.5219 - val_accuracy: 0.7241\n",
      "Epoch 31/150\n",
      "42/42 [==============================] - 0s 6ms/step - loss: 0.4124 - accuracy: 0.8102 - val_loss: 0.5205 - val_accuracy: 0.7241\n",
      "Epoch 32/150\n",
      "42/42 [==============================] - 0s 7ms/step - loss: 0.4119 - accuracy: 0.8078 - val_loss: 0.5222 - val_accuracy: 0.7241\n",
      "Epoch 33/150\n",
      "42/42 [==============================] - 0s 7ms/step - loss: 0.4114 - accuracy: 0.8102 - val_loss: 0.5211 - val_accuracy: 0.7192\n",
      "Epoch 34/150\n",
      "42/42 [==============================] - 0s 8ms/step - loss: 0.4090 - accuracy: 0.8127 - val_loss: 0.5210 - val_accuracy: 0.7192\n",
      "Epoch 35/150\n",
      "42/42 [==============================] - 0s 5ms/step - loss: 0.4081 - accuracy: 0.8127 - val_loss: 0.5225 - val_accuracy: 0.7192\n",
      "Epoch 36/150\n",
      "42/42 [==============================] - 0s 5ms/step - loss: 0.4075 - accuracy: 0.8151 - val_loss: 0.5213 - val_accuracy: 0.7192\n",
      "Epoch 37/150\n",
      "42/42 [==============================] - 0s 7ms/step - loss: 0.4075 - accuracy: 0.8224 - val_loss: 0.5216 - val_accuracy: 0.7192\n",
      "Epoch 38/150\n",
      "42/42 [==============================] - 0s 7ms/step - loss: 0.4066 - accuracy: 0.8175 - val_loss: 0.5220 - val_accuracy: 0.7192\n",
      "Epoch 39/150\n",
      "42/42 [==============================] - 0s 5ms/step - loss: 0.4047 - accuracy: 0.8175 - val_loss: 0.5212 - val_accuracy: 0.7192\n",
      "Epoch 40/150\n",
      "42/42 [==============================] - 0s 10ms/step - loss: 0.4042 - accuracy: 0.8175 - val_loss: 0.5222 - val_accuracy: 0.7241\n",
      "Epoch 41/150\n",
      "42/42 [==============================] - 0s 5ms/step - loss: 0.4047 - accuracy: 0.8224 - val_loss: 0.5161 - val_accuracy: 0.7241\n",
      "Epoch 42/150\n",
      "42/42 [==============================] - 0s 7ms/step - loss: 0.4032 - accuracy: 0.8175 - val_loss: 0.5174 - val_accuracy: 0.7241\n",
      "Epoch 43/150\n",
      "42/42 [==============================] - 0s 5ms/step - loss: 0.4024 - accuracy: 0.8224 - val_loss: 0.5196 - val_accuracy: 0.7241\n",
      "Epoch 44/150\n",
      "42/42 [==============================] - 0s 6ms/step - loss: 0.4016 - accuracy: 0.8127 - val_loss: 0.5200 - val_accuracy: 0.7192\n",
      "Epoch 45/150\n",
      "42/42 [==============================] - 0s 5ms/step - loss: 0.4007 - accuracy: 0.8273 - val_loss: 0.5203 - val_accuracy: 0.7143\n",
      "Epoch 46/150\n",
      "42/42 [==============================] - 0s 5ms/step - loss: 0.4006 - accuracy: 0.8175 - val_loss: 0.5223 - val_accuracy: 0.7241\n",
      "Epoch 47/150\n",
      "42/42 [==============================] - 0s 5ms/step - loss: 0.4010 - accuracy: 0.8151 - val_loss: 0.5177 - val_accuracy: 0.7241\n",
      "Epoch 48/150\n",
      "42/42 [==============================] - 0s 5ms/step - loss: 0.3995 - accuracy: 0.8175 - val_loss: 0.5196 - val_accuracy: 0.7241\n",
      "Epoch 49/150\n",
      "42/42 [==============================] - 0s 5ms/step - loss: 0.3985 - accuracy: 0.8175 - val_loss: 0.5217 - val_accuracy: 0.7192\n",
      "Epoch 50/150\n",
      "42/42 [==============================] - 0s 5ms/step - loss: 0.3987 - accuracy: 0.8200 - val_loss: 0.5203 - val_accuracy: 0.7241\n",
      "Epoch 51/150\n",
      "42/42 [==============================] - 0s 10ms/step - loss: 0.3974 - accuracy: 0.8175 - val_loss: 0.5214 - val_accuracy: 0.7241\n",
      "Epoch 52/150\n",
      "42/42 [==============================] - 0s 5ms/step - loss: 0.3956 - accuracy: 0.8151 - val_loss: 0.5189 - val_accuracy: 0.7192\n",
      "Epoch 53/150\n",
      "42/42 [==============================] - 1s 17ms/step - loss: 0.3976 - accuracy: 0.8200 - val_loss: 0.5186 - val_accuracy: 0.7241\n",
      "Epoch 54/150\n",
      "42/42 [==============================] - 1s 21ms/step - loss: 0.3948 - accuracy: 0.8151 - val_loss: 0.5195 - val_accuracy: 0.7241\n",
      "Epoch 55/150\n",
      "42/42 [==============================] - 0s 6ms/step - loss: 0.3942 - accuracy: 0.8224 - val_loss: 0.5191 - val_accuracy: 0.7241\n",
      "Epoch 56/150\n",
      "42/42 [==============================] - 0s 5ms/step - loss: 0.3949 - accuracy: 0.8200 - val_loss: 0.5197 - val_accuracy: 0.7192\n",
      "Epoch 57/150\n",
      "42/42 [==============================] - 0s 6ms/step - loss: 0.3924 - accuracy: 0.8175 - val_loss: 0.5209 - val_accuracy: 0.7143\n",
      "Epoch 58/150\n",
      "42/42 [==============================] - 0s 5ms/step - loss: 0.3928 - accuracy: 0.8151 - val_loss: 0.5213 - val_accuracy: 0.7192\n",
      "Epoch 59/150\n",
      "42/42 [==============================] - 0s 8ms/step - loss: 0.3923 - accuracy: 0.8175 - val_loss: 0.5222 - val_accuracy: 0.7143\n",
      "Epoch 60/150\n",
      "42/42 [==============================] - 0s 5ms/step - loss: 0.3902 - accuracy: 0.8224 - val_loss: 0.5240 - val_accuracy: 0.7192\n",
      "Epoch 61/150\n",
      "42/42 [==============================] - 0s 6ms/step - loss: 0.3918 - accuracy: 0.8224 - val_loss: 0.5226 - val_accuracy: 0.7192\n",
      "Epoch 62/150\n",
      "42/42 [==============================] - 0s 5ms/step - loss: 0.3892 - accuracy: 0.8273 - val_loss: 0.5241 - val_accuracy: 0.7192\n",
      "Epoch 63/150\n",
      "42/42 [==============================] - 0s 6ms/step - loss: 0.3877 - accuracy: 0.8248 - val_loss: 0.5233 - val_accuracy: 0.7192\n",
      "Epoch 64/150\n",
      "42/42 [==============================] - 0s 5ms/step - loss: 0.3865 - accuracy: 0.8224 - val_loss: 0.5239 - val_accuracy: 0.7192\n",
      "Epoch 65/150\n",
      "42/42 [==============================] - 0s 5ms/step - loss: 0.3858 - accuracy: 0.8224 - val_loss: 0.5256 - val_accuracy: 0.7192\n",
      "Epoch 66/150\n",
      "42/42 [==============================] - 0s 5ms/step - loss: 0.3851 - accuracy: 0.8224 - val_loss: 0.5281 - val_accuracy: 0.7192\n",
      "Epoch 67/150\n",
      "42/42 [==============================] - 0s 5ms/step - loss: 0.3843 - accuracy: 0.8248 - val_loss: 0.5273 - val_accuracy: 0.7291\n",
      "Epoch 68/150\n",
      "42/42 [==============================] - 0s 6ms/step - loss: 0.3837 - accuracy: 0.8224 - val_loss: 0.5284 - val_accuracy: 0.7291\n",
      "Epoch 69/150\n",
      "42/42 [==============================] - 0s 7ms/step - loss: 0.3834 - accuracy: 0.8273 - val_loss: 0.5274 - val_accuracy: 0.7241\n",
      "Epoch 70/150\n",
      "42/42 [==============================] - 0s 9ms/step - loss: 0.3835 - accuracy: 0.8224 - val_loss: 0.5285 - val_accuracy: 0.7291\n",
      "Epoch 71/150\n",
      "42/42 [==============================] - 0s 7ms/step - loss: 0.3824 - accuracy: 0.8297 - val_loss: 0.5291 - val_accuracy: 0.7241\n",
      "Epoch 72/150\n",
      "42/42 [==============================] - 0s 5ms/step - loss: 0.3804 - accuracy: 0.8321 - val_loss: 0.5290 - val_accuracy: 0.7241\n",
      "Epoch 73/150\n",
      "42/42 [==============================] - 0s 5ms/step - loss: 0.3792 - accuracy: 0.8321 - val_loss: 0.5292 - val_accuracy: 0.7241\n",
      "Epoch 74/150\n",
      "42/42 [==============================] - 0s 5ms/step - loss: 0.3799 - accuracy: 0.8248 - val_loss: 0.5297 - val_accuracy: 0.7241\n",
      "Epoch 75/150\n",
      "42/42 [==============================] - 0s 5ms/step - loss: 0.3791 - accuracy: 0.8297 - val_loss: 0.5320 - val_accuracy: 0.7241\n",
      "Epoch 76/150\n",
      "42/42 [==============================] - 0s 5ms/step - loss: 0.3776 - accuracy: 0.8345 - val_loss: 0.5312 - val_accuracy: 0.7291\n",
      "Epoch 77/150\n",
      "42/42 [==============================] - 0s 5ms/step - loss: 0.3780 - accuracy: 0.8321 - val_loss: 0.5334 - val_accuracy: 0.7241\n",
      "Epoch 78/150\n",
      "42/42 [==============================] - 0s 5ms/step - loss: 0.3767 - accuracy: 0.8345 - val_loss: 0.5333 - val_accuracy: 0.7241\n",
      "Epoch 79/150\n",
      "42/42 [==============================] - 0s 5ms/step - loss: 0.3757 - accuracy: 0.8321 - val_loss: 0.5334 - val_accuracy: 0.7291\n",
      "Epoch 80/150\n",
      "42/42 [==============================] - 0s 5ms/step - loss: 0.3747 - accuracy: 0.8321 - val_loss: 0.5347 - val_accuracy: 0.7291\n",
      "Epoch 81/150\n",
      "42/42 [==============================] - 0s 5ms/step - loss: 0.3745 - accuracy: 0.8321 - val_loss: 0.5342 - val_accuracy: 0.7291\n",
      "Epoch 82/150\n",
      "42/42 [==============================] - 0s 10ms/step - loss: 0.3731 - accuracy: 0.8345 - val_loss: 0.5350 - val_accuracy: 0.7291\n",
      "Epoch 83/150\n",
      "42/42 [==============================] - 0s 6ms/step - loss: 0.3724 - accuracy: 0.8321 - val_loss: 0.5307 - val_accuracy: 0.7340\n",
      "Epoch 84/150\n",
      "42/42 [==============================] - 0s 7ms/step - loss: 0.3732 - accuracy: 0.8370 - val_loss: 0.5326 - val_accuracy: 0.7340\n",
      "Epoch 85/150\n",
      "42/42 [==============================] - 0s 5ms/step - loss: 0.3716 - accuracy: 0.8273 - val_loss: 0.5342 - val_accuracy: 0.7291\n",
      "Epoch 86/150\n",
      "42/42 [==============================] - 0s 7ms/step - loss: 0.3709 - accuracy: 0.8297 - val_loss: 0.5338 - val_accuracy: 0.7291\n",
      "Epoch 87/150\n",
      "42/42 [==============================] - 0s 6ms/step - loss: 0.3699 - accuracy: 0.8345 - val_loss: 0.5355 - val_accuracy: 0.7340\n",
      "Epoch 88/150\n",
      "42/42 [==============================] - 0s 6ms/step - loss: 0.3722 - accuracy: 0.8321 - val_loss: 0.5366 - val_accuracy: 0.7340\n",
      "Epoch 89/150\n",
      "42/42 [==============================] - 0s 7ms/step - loss: 0.3686 - accuracy: 0.8370 - val_loss: 0.5360 - val_accuracy: 0.7291\n",
      "Epoch 90/150\n",
      "42/42 [==============================] - 0s 8ms/step - loss: 0.3679 - accuracy: 0.8345 - val_loss: 0.5363 - val_accuracy: 0.7340\n",
      "Epoch 91/150\n",
      "42/42 [==============================] - 0s 6ms/step - loss: 0.3666 - accuracy: 0.8370 - val_loss: 0.5362 - val_accuracy: 0.7340\n",
      "Epoch 92/150\n",
      "42/42 [==============================] - 0s 5ms/step - loss: 0.3675 - accuracy: 0.8418 - val_loss: 0.5321 - val_accuracy: 0.7291\n",
      "Epoch 93/150\n",
      "42/42 [==============================] - 0s 7ms/step - loss: 0.3666 - accuracy: 0.8345 - val_loss: 0.5351 - val_accuracy: 0.7241\n",
      "Epoch 94/150\n",
      "42/42 [==============================] - 0s 5ms/step - loss: 0.3659 - accuracy: 0.8345 - val_loss: 0.5363 - val_accuracy: 0.7241\n",
      "Epoch 95/150\n",
      "42/42 [==============================] - 0s 5ms/step - loss: 0.3641 - accuracy: 0.8394 - val_loss: 0.5374 - val_accuracy: 0.7241\n",
      "Epoch 96/150\n",
      "42/42 [==============================] - 0s 5ms/step - loss: 0.3625 - accuracy: 0.8394 - val_loss: 0.5365 - val_accuracy: 0.7192\n",
      "Epoch 97/150\n",
      "42/42 [==============================] - 0s 6ms/step - loss: 0.3617 - accuracy: 0.8321 - val_loss: 0.5376 - val_accuracy: 0.7192\n",
      "Epoch 98/150\n",
      "42/42 [==============================] - 0s 5ms/step - loss: 0.3598 - accuracy: 0.8394 - val_loss: 0.5368 - val_accuracy: 0.7192\n",
      "Epoch 99/150\n",
      "42/42 [==============================] - 0s 5ms/step - loss: 0.3605 - accuracy: 0.8370 - val_loss: 0.5394 - val_accuracy: 0.7192\n",
      "Epoch 100/150\n",
      "42/42 [==============================] - 0s 5ms/step - loss: 0.3597 - accuracy: 0.8418 - val_loss: 0.5393 - val_accuracy: 0.7143\n",
      "Epoch 101/150\n",
      "42/42 [==============================] - 0s 5ms/step - loss: 0.3575 - accuracy: 0.8345 - val_loss: 0.5369 - val_accuracy: 0.7192\n",
      "Epoch 102/150\n",
      "42/42 [==============================] - 0s 5ms/step - loss: 0.3581 - accuracy: 0.8394 - val_loss: 0.5381 - val_accuracy: 0.7192\n",
      "Epoch 103/150\n",
      "42/42 [==============================] - 0s 5ms/step - loss: 0.3561 - accuracy: 0.8418 - val_loss: 0.5411 - val_accuracy: 0.7143\n",
      "Epoch 104/150\n",
      "42/42 [==============================] - 0s 6ms/step - loss: 0.3552 - accuracy: 0.8418 - val_loss: 0.5424 - val_accuracy: 0.7143\n",
      "Epoch 105/150\n",
      "42/42 [==============================] - 0s 6ms/step - loss: 0.3539 - accuracy: 0.8467 - val_loss: 0.5433 - val_accuracy: 0.7143\n",
      "Epoch 106/150\n",
      "42/42 [==============================] - 0s 5ms/step - loss: 0.3538 - accuracy: 0.8418 - val_loss: 0.5440 - val_accuracy: 0.7143\n",
      "Epoch 107/150\n",
      "42/42 [==============================] - 0s 5ms/step - loss: 0.3529 - accuracy: 0.8394 - val_loss: 0.5441 - val_accuracy: 0.7143\n",
      "Epoch 108/150\n",
      "42/42 [==============================] - 0s 5ms/step - loss: 0.3517 - accuracy: 0.8467 - val_loss: 0.5445 - val_accuracy: 0.7143\n",
      "Epoch 109/150\n",
      "42/42 [==============================] - 0s 6ms/step - loss: 0.3514 - accuracy: 0.8394 - val_loss: 0.5473 - val_accuracy: 0.7143\n",
      "Epoch 110/150\n",
      "42/42 [==============================] - 0s 5ms/step - loss: 0.3507 - accuracy: 0.8467 - val_loss: 0.5491 - val_accuracy: 0.7143\n",
      "Epoch 111/150\n",
      "42/42 [==============================] - 0s 5ms/step - loss: 0.3508 - accuracy: 0.8443 - val_loss: 0.5492 - val_accuracy: 0.7143\n",
      "Epoch 112/150\n",
      "42/42 [==============================] - 0s 5ms/step - loss: 0.3491 - accuracy: 0.8394 - val_loss: 0.5514 - val_accuracy: 0.7094\n",
      "Epoch 113/150\n",
      "42/42 [==============================] - 0s 5ms/step - loss: 0.3484 - accuracy: 0.8467 - val_loss: 0.5520 - val_accuracy: 0.7094\n",
      "Epoch 114/150\n",
      "42/42 [==============================] - 0s 6ms/step - loss: 0.3491 - accuracy: 0.8418 - val_loss: 0.5504 - val_accuracy: 0.7143\n",
      "Epoch 115/150\n",
      "42/42 [==============================] - 0s 5ms/step - loss: 0.3466 - accuracy: 0.8443 - val_loss: 0.5551 - val_accuracy: 0.7094\n",
      "Epoch 116/150\n",
      "42/42 [==============================] - 0s 8ms/step - loss: 0.3457 - accuracy: 0.8467 - val_loss: 0.5533 - val_accuracy: 0.7094\n",
      "Epoch 117/150\n",
      "42/42 [==============================] - 0s 5ms/step - loss: 0.3456 - accuracy: 0.8491 - val_loss: 0.5535 - val_accuracy: 0.7094\n",
      "Epoch 118/150\n",
      "42/42 [==============================] - 0s 5ms/step - loss: 0.3442 - accuracy: 0.8491 - val_loss: 0.5524 - val_accuracy: 0.7094\n",
      "Epoch 119/150\n",
      "42/42 [==============================] - 0s 5ms/step - loss: 0.3428 - accuracy: 0.8467 - val_loss: 0.5533 - val_accuracy: 0.7143\n",
      "Epoch 120/150\n",
      "42/42 [==============================] - 0s 5ms/step - loss: 0.3414 - accuracy: 0.8516 - val_loss: 0.5565 - val_accuracy: 0.7143\n",
      "Epoch 121/150\n",
      "42/42 [==============================] - 0s 5ms/step - loss: 0.3416 - accuracy: 0.8467 - val_loss: 0.5568 - val_accuracy: 0.7143\n",
      "Epoch 122/150\n",
      "42/42 [==============================] - 0s 5ms/step - loss: 0.3411 - accuracy: 0.8443 - val_loss: 0.5559 - val_accuracy: 0.7143\n",
      "Epoch 123/150\n",
      "42/42 [==============================] - 0s 5ms/step - loss: 0.3415 - accuracy: 0.8491 - val_loss: 0.5557 - val_accuracy: 0.7143\n",
      "Epoch 124/150\n",
      "42/42 [==============================] - 0s 7ms/step - loss: 0.3392 - accuracy: 0.8491 - val_loss: 0.5574 - val_accuracy: 0.7044\n",
      "Epoch 125/150\n",
      "42/42 [==============================] - 0s 5ms/step - loss: 0.3386 - accuracy: 0.8491 - val_loss: 0.5593 - val_accuracy: 0.7094\n",
      "Epoch 126/150\n",
      "42/42 [==============================] - 0s 8ms/step - loss: 0.3378 - accuracy: 0.8491 - val_loss: 0.5604 - val_accuracy: 0.7094\n",
      "Epoch 127/150\n",
      "42/42 [==============================] - 0s 5ms/step - loss: 0.3377 - accuracy: 0.8516 - val_loss: 0.5649 - val_accuracy: 0.6995\n",
      "Epoch 128/150\n",
      "42/42 [==============================] - 0s 5ms/step - loss: 0.3364 - accuracy: 0.8491 - val_loss: 0.5599 - val_accuracy: 0.6995\n",
      "Epoch 129/150\n",
      "42/42 [==============================] - 0s 5ms/step - loss: 0.3349 - accuracy: 0.8394 - val_loss: 0.5631 - val_accuracy: 0.7044\n",
      "Epoch 130/150\n",
      "42/42 [==============================] - 0s 5ms/step - loss: 0.3348 - accuracy: 0.8540 - val_loss: 0.5613 - val_accuracy: 0.7044\n",
      "Epoch 131/150\n",
      "42/42 [==============================] - 0s 5ms/step - loss: 0.3343 - accuracy: 0.8443 - val_loss: 0.5633 - val_accuracy: 0.7044\n",
      "Epoch 132/150\n",
      "42/42 [==============================] - 0s 5ms/step - loss: 0.3340 - accuracy: 0.8467 - val_loss: 0.5647 - val_accuracy: 0.7044\n",
      "Epoch 133/150\n",
      "42/42 [==============================] - 0s 5ms/step - loss: 0.3330 - accuracy: 0.8540 - val_loss: 0.5673 - val_accuracy: 0.7044\n",
      "Epoch 134/150\n",
      "42/42 [==============================] - 0s 5ms/step - loss: 0.3317 - accuracy: 0.8491 - val_loss: 0.5676 - val_accuracy: 0.7044\n",
      "Epoch 135/150\n",
      "42/42 [==============================] - 0s 5ms/step - loss: 0.3316 - accuracy: 0.8467 - val_loss: 0.5732 - val_accuracy: 0.7044\n",
      "Epoch 136/150\n",
      "42/42 [==============================] - 0s 5ms/step - loss: 0.3305 - accuracy: 0.8491 - val_loss: 0.5715 - val_accuracy: 0.7044\n",
      "Epoch 137/150\n",
      "42/42 [==============================] - 0s 8ms/step - loss: 0.3310 - accuracy: 0.8564 - val_loss: 0.5734 - val_accuracy: 0.7094\n",
      "Epoch 138/150\n",
      "42/42 [==============================] - 0s 6ms/step - loss: 0.3297 - accuracy: 0.8491 - val_loss: 0.5752 - val_accuracy: 0.7094\n",
      "Epoch 139/150\n",
      "42/42 [==============================] - 0s 5ms/step - loss: 0.3298 - accuracy: 0.8564 - val_loss: 0.5751 - val_accuracy: 0.7044\n",
      "Epoch 140/150\n",
      "42/42 [==============================] - 0s 6ms/step - loss: 0.3307 - accuracy: 0.8516 - val_loss: 0.5693 - val_accuracy: 0.7143\n",
      "Epoch 141/150\n",
      "42/42 [==============================] - 0s 5ms/step - loss: 0.3289 - accuracy: 0.8637 - val_loss: 0.5677 - val_accuracy: 0.7094\n",
      "Epoch 142/150\n",
      "42/42 [==============================] - 0s 5ms/step - loss: 0.3286 - accuracy: 0.8540 - val_loss: 0.5717 - val_accuracy: 0.7044\n",
      "Epoch 143/150\n",
      "42/42 [==============================] - 0s 5ms/step - loss: 0.3265 - accuracy: 0.8467 - val_loss: 0.5728 - val_accuracy: 0.7044\n",
      "Epoch 144/150\n",
      "42/42 [==============================] - 0s 6ms/step - loss: 0.3263 - accuracy: 0.8540 - val_loss: 0.5739 - val_accuracy: 0.7094\n",
      "Epoch 145/150\n",
      "42/42 [==============================] - 0s 6ms/step - loss: 0.3247 - accuracy: 0.8540 - val_loss: 0.5775 - val_accuracy: 0.6995\n",
      "Epoch 146/150\n",
      "42/42 [==============================] - 0s 5ms/step - loss: 0.3251 - accuracy: 0.8589 - val_loss: 0.5794 - val_accuracy: 0.7094\n",
      "Epoch 147/150\n",
      "42/42 [==============================] - 0s 8ms/step - loss: 0.3233 - accuracy: 0.8564 - val_loss: 0.5811 - val_accuracy: 0.7094\n",
      "Epoch 148/150\n",
      "42/42 [==============================] - 0s 5ms/step - loss: 0.3287 - accuracy: 0.8516 - val_loss: 0.5730 - val_accuracy: 0.7094\n",
      "Epoch 149/150\n",
      "42/42 [==============================] - 0s 5ms/step - loss: 0.3230 - accuracy: 0.8540 - val_loss: 0.5777 - val_accuracy: 0.7094\n",
      "Epoch 150/150\n",
      "42/42 [==============================] - 0s 7ms/step - loss: 0.3242 - accuracy: 0.8613 - val_loss: 0.5807 - val_accuracy: 0.7044\n"
     ]
    }
   ],
   "source": [
    "# Fitting pada Keras Model \n",
    "history = MesinKlasifikasi.fit(X_train, y_train, validation_split=0.33, epochs=150, batch_size=10)"
   ]
  },
  {
   "cell_type": "markdown",
   "metadata": {},
   "source": [
    "## Plot model Loss and Accuracy"
   ]
  },
  {
   "cell_type": "code",
   "execution_count": 110,
   "metadata": {},
   "outputs": [
    {
     "data": {
      "image/png": "[encoded data removed]",
      "text/plain": [
       "<Figure size 640x480 with 1 Axes>"
      ]
     },
     "metadata": {},
     "output_type": "display_data"
    }
   ],
   "source": [
    "# Membuat plot loss model\n",
    "plt.plot(MesinKlasifikasi.history.history['loss'])\n",
    "plt.plot(MesinKlasifikasi.history.history['val_loss'])\n",
    "plt.title('model loss')\n",
    "plt.ylabel('loss')\n",
    "plt.xlabel('epoch')\n",
    "plt.legend(['train', 'test'], loc='upper left')\n",
    "plt.show()"
   ]
  },
  {
   "cell_type": "code",
   "execution_count": 111,
   "metadata": {},
   "outputs": [
    {
     "data": {
      "image/png": "[encoded data removed]",
      "text/plain": [
       "<Figure size 640x480 with 1 Axes>"
      ]
     },
     "metadata": {},
     "output_type": "display_data"
    }
   ],
   "source": [
    "# Membuat plot akurasi model\n",
    "plt.plot(MesinKlasifikasi.history.history['accuracy'])\n",
    "plt.plot(MesinKlasifikasi.history.history['val_accuracy'])\n",
    "plt.title('model accuracy')\n",
    "plt.ylabel('accuracy')\n",
    "plt.xlabel('epoch')\n",
    "plt.legend(['train', 'test'], loc='upper left')\n",
    "plt.show()"
   ]
  },
  {
   "cell_type": "markdown",
   "metadata": {},
   "source": [
    "### Prediksi model "
   ]
  },
  {
   "cell_type": "code",
   "execution_count": 112,
   "metadata": {},
   "outputs": [
    {
     "name": "stdout",
     "output_type": "stream",
     "text": [
      "5/5 [==============================] - 0s 3ms/step\n"
     ]
    },
    {
     "data": {
      "text/plain": [
       "array([[False],\n",
       "       [False],\n",
       "       [False],\n",
       "       [False],\n",
       "       [False],\n",
       "       [ True],\n",
       "       [False],\n",
       "       [False],\n",
       "       [ True],\n",
       "       [ True],\n",
       "       [False],\n",
       "       [ True],\n",
       "       [False],\n",
       "       [False],\n",
       "       [False],\n",
       "       [False],\n",
       "       [False],\n",
       "       [False],\n",
       "       [ True],\n",
       "       [ True],\n",
       "       [False],\n",
       "       [False],\n",
       "       [False],\n",
       "       [False],\n",
       "       [ True],\n",
       "       [ True],\n",
       "       [False],\n",
       "       [False],\n",
       "       [False],\n",
       "       [False],\n",
       "       [ True],\n",
       "       [ True],\n",
       "       [ True],\n",
       "       [ True],\n",
       "       [False],\n",
       "       [ True],\n",
       "       [ True],\n",
       "       [False],\n",
       "       [False],\n",
       "       [ True],\n",
       "       [False],\n",
       "       [False],\n",
       "       [ True],\n",
       "       [False],\n",
       "       [False],\n",
       "       [ True],\n",
       "       [False],\n",
       "       [False],\n",
       "       [False],\n",
       "       [ True],\n",
       "       [False],\n",
       "       [ True],\n",
       "       [ True],\n",
       "       [False],\n",
       "       [False],\n",
       "       [False],\n",
       "       [ True],\n",
       "       [False],\n",
       "       [ True],\n",
       "       [ True],\n",
       "       [ True],\n",
       "       [ True],\n",
       "       [ True],\n",
       "       [False],\n",
       "       [False],\n",
       "       [ True],\n",
       "       [False],\n",
       "       [ True],\n",
       "       [False],\n",
       "       [False],\n",
       "       [ True],\n",
       "       [False],\n",
       "       [False],\n",
       "       [False],\n",
       "       [False],\n",
       "       [ True],\n",
       "       [False],\n",
       "       [False],\n",
       "       [False],\n",
       "       [False],\n",
       "       [ True],\n",
       "       [False],\n",
       "       [False],\n",
       "       [False],\n",
       "       [False],\n",
       "       [ True],\n",
       "       [ True],\n",
       "       [False],\n",
       "       [False],\n",
       "       [False],\n",
       "       [False],\n",
       "       [False],\n",
       "       [False],\n",
       "       [False],\n",
       "       [ True],\n",
       "       [ True],\n",
       "       [False],\n",
       "       [False],\n",
       "       [False],\n",
       "       [False],\n",
       "       [ True],\n",
       "       [False],\n",
       "       [ True],\n",
       "       [False],\n",
       "       [ True],\n",
       "       [False],\n",
       "       [False],\n",
       "       [ True],\n",
       "       [False],\n",
       "       [ True],\n",
       "       [False],\n",
       "       [False],\n",
       "       [False],\n",
       "       [ True],\n",
       "       [False],\n",
       "       [ True],\n",
       "       [ True],\n",
       "       [False],\n",
       "       [False],\n",
       "       [False],\n",
       "       [False],\n",
       "       [ True],\n",
       "       [ True],\n",
       "       [False],\n",
       "       [False],\n",
       "       [ True],\n",
       "       [False],\n",
       "       [ True],\n",
       "       [ True],\n",
       "       [ True],\n",
       "       [ True],\n",
       "       [ True],\n",
       "       [False],\n",
       "       [ True],\n",
       "       [ True],\n",
       "       [False],\n",
       "       [False],\n",
       "       [ True],\n",
       "       [ True],\n",
       "       [False],\n",
       "       [False],\n",
       "       [False],\n",
       "       [False],\n",
       "       [False],\n",
       "       [False],\n",
       "       [False],\n",
       "       [False],\n",
       "       [False],\n",
       "       [False],\n",
       "       [ True],\n",
       "       [False],\n",
       "       [False],\n",
       "       [False],\n",
       "       [False]])"
      ]
     },
     "execution_count": 112,
     "metadata": {},
     "output_type": "execute_result"
    }
   ],
   "source": [
    "# Memprediksi hasil test set\n",
    "y_pred = MesinKlasifikasi.predict(X_test)\n",
    "y_pred = (y_pred > 0.5) # jika nilai probabilitas > 0.5, maka akan bernilai 1\n",
    "y_pred"
   ]
  },
  {
   "cell_type": "code",
   "execution_count": 119,
   "metadata": {},
   "outputs": [
    {
     "name": "stdout",
     "output_type": "stream",
     "text": [
      "5/5 [==============================] - 0s 6ms/step\n",
      "Accuracy: 0.35714285714285715\n"
     ]
    }
   ],
   "source": [
    "y_pred = MesinKlasifikasi.predict(X_test)\n",
    "\n",
    "# membuat y_pred menjadi 0 atau 1\n",
    "data_replace = []\n",
    "for x in y_pred:\n",
    "    data_replace.append(x[0])\n",
    "\n",
    "data_baru = [1 if x else 0 for x in data_replace] \n",
    "\n",
    "accuracy = accuracy_score(y_test, data_baru)\n",
    "print(\"Accuracy:\", accuracy)"
   ]
  },
  {
   "cell_type": "code",
   "execution_count": 121,
   "metadata": {},
   "outputs": [
    {
     "name": "stdout",
     "output_type": "stream",
     "text": [
      "Classification Report:\n",
      "              precision    recall  f1-score   support\n",
      "\n",
      "           0       0.00      0.00      0.00        99\n",
      "           1       0.36      1.00      0.53        55\n",
      "\n",
      "    accuracy                           0.36       154\n",
      "   macro avg       0.18      0.50      0.26       154\n",
      "weighted avg       0.13      0.36      0.19       154\n",
      "\n"
     ]
    },
    {
     "name": "stderr",
     "output_type": "stream",
     "text": [
      "c:\\Users\\najla\\AppData\\Local\\Programs\\Python\\Python311\\Lib\\site-packages\\sklearn\\metrics\\_classification.py:1471: UndefinedMetricWarning: Precision and F-score are ill-defined and being set to 0.0 in labels with no predicted samples. Use `zero_division` parameter to control this behavior.\n",
      "  _warn_prf(average, modifier, msg_start, len(result))\n",
      "c:\\Users\\najla\\AppData\\Local\\Programs\\Python\\Python311\\Lib\\site-packages\\sklearn\\metrics\\_classification.py:1471: UndefinedMetricWarning: Precision and F-score are ill-defined and being set to 0.0 in labels with no predicted samples. Use `zero_division` parameter to control this behavior.\n",
      "  _warn_prf(average, modifier, msg_start, len(result))\n",
      "c:\\Users\\najla\\AppData\\Local\\Programs\\Python\\Python311\\Lib\\site-packages\\sklearn\\metrics\\_classification.py:1471: UndefinedMetricWarning: Precision and F-score are ill-defined and being set to 0.0 in labels with no predicted samples. Use `zero_division` parameter to control this behavior.\n",
      "  _warn_prf(average, modifier, msg_start, len(result))\n"
     ]
    }
   ],
   "source": [
    "# melihat classification report \n",
    "print(\"Classification Report:\")\n",
    "print(classification_report(y_test, data_baru))"
   ]
  }
 ],
 "metadata": {
  "kernelspec": {
   "display_name": "Python 3",
   "language": "python",
   "name": "python3"
  },
  "language_info": {
   "codemirror_mode": {
    "name": "ipython",
    "version": 3
   },
   "file_extension": ".py",
   "mimetype": "text/x-python",
   "name": "python",
   "nbconvert_exporter": "python",
   "pygments_lexer": "ipython3",
   "version": "3.11.6"
  }
 },
 "nbformat": 4,
 "nbformat_minor": 2
}
